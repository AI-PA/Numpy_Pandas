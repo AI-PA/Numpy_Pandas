{
 "cells": [
  {
   "cell_type": "markdown",
   "metadata": {},
   "source": [
    "# Creando Arrays"
   ]
  },
  {
   "cell_type": "code",
   "execution_count": 4,
   "metadata": {},
   "outputs": [],
   "source": [
    "import numpy as np"
   ]
  },
  {
   "cell_type": "code",
   "execution_count": 5,
   "metadata": {},
   "outputs": [
    {
     "data": {
      "text/plain": [
       "[0, 1, 2, 3, 4, 5, 6, 7, 8, 9]"
      ]
     },
     "execution_count": 5,
     "metadata": {},
     "output_type": "execute_result"
    }
   ],
   "source": [
    "list(range(0,10)) "
   ]
  },
  {
   "cell_type": "code",
   "execution_count": 6,
   "metadata": {},
   "outputs": [
    {
     "data": {
      "text/plain": [
       "array([0, 1, 2, 3, 4, 5, 6, 7, 8, 9])"
      ]
     },
     "execution_count": 6,
     "metadata": {},
     "output_type": "execute_result"
    }
   ],
   "source": [
    "np.arange(0,10) # (Inicio, Fin, Incremento), es la método range ⬆️ pero en Numpy"
   ]
  },
  {
   "cell_type": "code",
   "execution_count": 11,
   "metadata": {},
   "outputs": [
    {
     "data": {
      "text/plain": [
       "array([[0., 0., 0.],\n",
       "       [0., 0., 0.],\n",
       "       [0., 0., 0.]])"
      ]
     },
     "execution_count": 11,
     "metadata": {},
     "output_type": "execute_result"
    }
   ],
   "source": [
    "np.zeros((3,3)) # Nos puede sirve como un borrador de los datos que podríamos tener. "
   ]
  },
  {
   "cell_type": "code",
   "execution_count": 12,
   "metadata": {},
   "outputs": [
    {
     "data": {
      "text/plain": [
       "array([[1., 1., 1., 1., 1., 1., 1., 1., 1., 1.],\n",
       "       [1., 1., 1., 1., 1., 1., 1., 1., 1., 1.],\n",
       "       [1., 1., 1., 1., 1., 1., 1., 1., 1., 1.],\n",
       "       [1., 1., 1., 1., 1., 1., 1., 1., 1., 1.],\n",
       "       [1., 1., 1., 1., 1., 1., 1., 1., 1., 1.],\n",
       "       [1., 1., 1., 1., 1., 1., 1., 1., 1., 1.],\n",
       "       [1., 1., 1., 1., 1., 1., 1., 1., 1., 1.],\n",
       "       [1., 1., 1., 1., 1., 1., 1., 1., 1., 1.],\n",
       "       [1., 1., 1., 1., 1., 1., 1., 1., 1., 1.],\n",
       "       [1., 1., 1., 1., 1., 1., 1., 1., 1., 1.]])"
      ]
     },
     "execution_count": 12,
     "metadata": {},
     "output_type": "execute_result"
    }
   ],
   "source": [
    "np.ones((10,10)) # Lo mismo que el formato anterior pero en 1."
   ]
  },
  {
   "cell_type": "code",
   "execution_count": 17,
   "metadata": {},
   "outputs": [
    {
     "data": {
      "text/plain": [
       "array([  0.        ,   1.96078431,   3.92156863,   5.88235294,\n",
       "         7.84313725,   9.80392157,  11.76470588,  13.7254902 ,\n",
       "        15.68627451,  17.64705882,  19.60784314,  21.56862745,\n",
       "        23.52941176,  25.49019608,  27.45098039,  29.41176471,\n",
       "        31.37254902,  33.33333333,  35.29411765,  37.25490196,\n",
       "        39.21568627,  41.17647059,  43.1372549 ,  45.09803922,\n",
       "        47.05882353,  49.01960784,  50.98039216,  52.94117647,\n",
       "        54.90196078,  56.8627451 ,  58.82352941,  60.78431373,\n",
       "        62.74509804,  64.70588235,  66.66666667,  68.62745098,\n",
       "        70.58823529,  72.54901961,  74.50980392,  76.47058824,\n",
       "        78.43137255,  80.39215686,  82.35294118,  84.31372549,\n",
       "        86.2745098 ,  88.23529412,  90.19607843,  92.15686275,\n",
       "        94.11764706,  96.07843137,  98.03921569, 100.        ])"
      ]
     },
     "execution_count": 17,
     "metadata": {},
     "output_type": "execute_result"
    }
   ],
   "source": [
    "np.linspace(0,100,52)\n",
    "# Start, End, Num.Datos nos da la distribución de los datos de acuerdo a los parámetros que se establezcan. "
   ]
  },
  {
   "cell_type": "code",
   "execution_count": 19,
   "metadata": {},
   "outputs": [
    {
     "data": {
      "text/plain": [
       "array([[1., 0., 0., 0.],\n",
       "       [0., 1., 0., 0.],\n",
       "       [0., 0., 1., 0.],\n",
       "       [0., 0., 0., 1.]])"
      ]
     },
     "execution_count": 19,
     "metadata": {},
     "output_type": "execute_result"
    }
   ],
   "source": [
    "np.eye(4) # Genera la matriz identidad <- Algebra Lineal"
   ]
  },
  {
   "cell_type": "code",
   "execution_count": 27,
   "metadata": {},
   "outputs": [
    {
     "data": {
      "text/plain": [
       "array([[[0.3525934 , 0.99489901, 0.57490531, 0.60989915],\n",
       "        [0.52906633, 0.09783979, 0.57070815, 0.50854055],\n",
       "        [0.11737646, 0.35318126, 0.62948606, 0.68237994],\n",
       "        [0.13607491, 0.34541039, 0.49967146, 0.78252552]],\n",
       "\n",
       "       [[0.4030481 , 0.74735188, 0.07750883, 0.32046547],\n",
       "        [0.71750729, 0.72845931, 0.86160618, 0.04542291],\n",
       "        [0.30152623, 0.90664081, 0.77782676, 0.66981328],\n",
       "        [0.13258743, 0.72547852, 0.54977612, 0.71902874]],\n",
       "\n",
       "       [[0.48731001, 0.43664284, 0.07941299, 0.02000752],\n",
       "        [0.68424815, 0.06945256, 0.37988846, 0.92110467],\n",
       "        [0.74322121, 0.17226079, 0.66859469, 0.9300214 ],\n",
       "        [0.92660638, 0.2548094 , 0.50212497, 0.9289238 ]],\n",
       "\n",
       "       [[0.50539669, 0.28021396, 0.49095342, 0.78573995],\n",
       "        [0.53789082, 0.29119208, 0.14056946, 0.29789447],\n",
       "        [0.41213291, 0.65498824, 0.61509367, 0.04069092],\n",
       "        [0.90989029, 0.06682026, 0.87953714, 0.03411936]]])"
      ]
     },
     "execution_count": 27,
     "metadata": {},
     "output_type": "execute_result"
    }
   ],
   "source": [
    "np.random.rand(4,4,4) # ( Dimensiones ) Parámetro es el num. de datos aleatorios que va a generar"
   ]
  },
  {
   "cell_type": "code",
   "execution_count": 39,
   "metadata": {},
   "outputs": [
    {
     "data": {
      "text/plain": [
       "11"
      ]
     },
     "execution_count": 39,
     "metadata": {},
     "output_type": "execute_result"
    }
   ],
   "source": [
    "np.random.randint(1,1000) #(Start, End, Dimension)  Genera un numero aleatorio entero entre el inicio y final "
   ]
  },
  {
   "cell_type": "code",
   "execution_count": 43,
   "metadata": {},
   "outputs": [
    {
     "data": {
      "text/plain": [
       "array([[41,  2, 42, 47, 59, 25, 14, 11, 25, 40],\n",
       "       [90, 11, 45, 83, 29, 50, 97, 13, 59, 35],\n",
       "       [10, 92, 23, 74, 66, 31, 84, 12, 21, 16],\n",
       "       [20, 80, 35, 30, 80, 25, 56, 80, 66, 31],\n",
       "       [87, 52, 24, 83, 90, 76, 73, 23,  9, 76],\n",
       "       [13, 80, 81,  7, 73, 50,  4, 55, 31,  2],\n",
       "       [65, 72,  7, 29, 83, 94, 45, 52, 24, 22],\n",
       "       [73, 95, 63, 14, 63, 32, 19, 44, 19, 30],\n",
       "       [ 5, 20, 94, 12, 19, 86, 87,  1, 78, 53],\n",
       "       [41, 36, 27, 56, 77, 69, 98, 26,  8, 18]])"
      ]
     },
     "execution_count": 43,
     "metadata": {},
     "output_type": "execute_result"
    }
   ],
   "source": [
    "np.random.randint(1,100,(10,10))"
   ]
  }
 ],
 "metadata": {
  "kernelspec": {
   "display_name": "base",
   "language": "python",
   "name": "python3"
  },
  "language_info": {
   "codemirror_mode": {
    "name": "ipython",
    "version": 3
   },
   "file_extension": ".py",
   "mimetype": "text/x-python",
   "name": "python",
   "nbconvert_exporter": "python",
   "pygments_lexer": "ipython3",
   "version": "3.11.5"
  }
 },
 "nbformat": 4,
 "nbformat_minor": 2
}
